{
 "cells": [
  {
   "cell_type": "code",
   "execution_count": 3,
   "metadata": {},
   "outputs": [
    {
     "name": "stdout",
     "output_type": "stream",
     "text": [
      "Prediction: [ 1.   2.   1.   0.  -0.5]\n",
      "Loss: 0.5\n",
      "Prediction: [ 0.75218494  2.00436988  1.00436988 -0.37390753 -0.74781506]\n",
      "Loss: 0.48815643632236133\n"
     ]
    }
   ],
   "source": [
    "# Домашняя работа по регуляризации и оптимизации\n",
    "\n",
    "import numpy as np\n",
    "import yaml\n",
    "X = np.array([\n",
    "    [0, 1],\n",
    "    [1, 1],\n",
    "    [1, 0],\n",
    "    [-0.5, 0.5],\n",
    "    [0, -0.5]\n",
    "])\n",
    "\n",
    "y = np.array([1, 1, 1, -1, -1])\n",
    "\n",
    "theta0 = np.array([1.0, 1.0, 0.0])\n",
    "\n",
    "lr = 0.1\n",
    "\n",
    "def f(X, theta):\n",
    "    theta = np.asarray(theta)\n",
    "    return (X * theta[:2]).sum(axis=-1) + theta[2]\n",
    "\n",
    "def loss(X, y, theta):\n",
    "    theta = np.asarray(theta)\n",
    "    norm = (theta ** 2).sum()\n",
    "    deltas = y * f(X, theta)\n",
    "    return 0.1 * norm + np.mean(np.maximum(0, 1 - deltas))\n",
    "\n",
    "print(\"Prediction:\", f(X, theta0))\n",
    "print(\"Loss:\", loss(X, y, theta0))\n",
    "def f_diff(X):\n",
    "  return np.array([X[:, 0],X[:, 1],[1] * len(X)])\n",
    "\n",
    "def loss_diff(X, y, theta):\n",
    "  theta = np.asarray(theta)\n",
    "  norm_diff = theta * 2\n",
    "  \n",
    "  delt = y * f(X, theta)\n",
    "  deltas = np.maximum(0, 1 - delt)\n",
    "  mask  = (deltas != 0)\n",
    "  mask = mask.astype(np.int64) \n",
    "\n",
    "  deltas_diff = mask * (-1 * y * f_diff(X))\n",
    "  return 0.1 * norm_diff + np.mean(deltas_diff, axis = 1)\n",
    "\n",
    "theta = theta0\n",
    "\n",
    "for _ in range(1000):\n",
    "  theta = step(X, y, theta, lr)\n",
    "\n",
    "def step(X, y, theta, lr):\n",
    "  return theta - lr * loss_diff(X, y, theta)\n",
    "print(\"Prediction:\", f(X, theta))\n",
    "print(\"Loss:\", loss(X, y, theta))\n",
    "\n",
    "with open(\"submission.yaml\", \"w\") as fp:\n",
    "    yaml.safe_dump({\"tasks\": [{\"task1\": {\"answer\": theta.tolist()}}]}, fp)"
   ]
  },
  {
   "cell_type": "code",
   "execution_count": null,
   "metadata": {},
   "outputs": [],
   "source": []
  }
 ],
 "metadata": {
  "kernelspec": {
   "display_name": "Python 3 (ipykernel)",
   "language": "python",
   "name": "python3"
  },
  "language_info": {
   "codemirror_mode": {
    "name": "ipython",
    "version": 3
   },
   "file_extension": ".py",
   "mimetype": "text/x-python",
   "name": "python",
   "nbconvert_exporter": "python",
   "pygments_lexer": "ipython3",
   "version": "3.10.9"
  }
 },
 "nbformat": 4,
 "nbformat_minor": 2
}
